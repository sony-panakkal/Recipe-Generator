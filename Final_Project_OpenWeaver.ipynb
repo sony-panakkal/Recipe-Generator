{
  "nbformat": 4,
  "nbformat_minor": 0,
  "metadata": {
    "colab": {
      "provenance": [],
      "authorship_tag": "ABX9TyNicWj39Has7AAfFz8jLnWd",
      "include_colab_link": true
    },
    "kernelspec": {
      "name": "python3",
      "display_name": "Python 3"
    },
    "language_info": {
      "name": "python"
    }
  },
  "cells": [
    {
      "cell_type": "markdown",
      "metadata": {
        "id": "view-in-github",
        "colab_type": "text"
      },
      "source": [
        "<a href=\"https://colab.research.google.com/github/sony-panakkal/Recipe-Generator/blob/main/Final_Project_OpenWeaver.ipynb\" target=\"_parent\"><img src=\"https://colab.research.google.com/assets/colab-badge.svg\" alt=\"Open In Colab\"/></a>"
      ]
    },
    {
      "cell_type": "code",
      "execution_count": null,
      "metadata": {
        "id": "GuD9G5DEX_iL"
      },
      "outputs": [],
      "source": [
        "pip install gradio"
      ]
    },
    {
      "cell_type": "code",
      "source": [
        "pip install openai"
      ],
      "metadata": {
        "colab": {
          "base_uri": "https://localhost:8080/"
        },
        "id": "m8CVWCl5YCcY",
        "outputId": "46cd1ba9-345f-480e-dd5d-30c64fc5925d"
      },
      "execution_count": null,
      "outputs": [
        {
          "output_type": "stream",
          "name": "stdout",
          "text": [
            "Collecting openai\n",
            "  Downloading openai-0.27.8-py3-none-any.whl (73 kB)\n",
            "\u001b[2K     \u001b[90m━━━━━━━━━━━━━━━━━━━━━━━━━━━━━━━━━━━━━━━━\u001b[0m \u001b[32m73.6/73.6 kB\u001b[0m \u001b[31m1.4 MB/s\u001b[0m eta \u001b[36m0:00:00\u001b[0m\n",
            "\u001b[?25hRequirement already satisfied: requests>=2.20 in /usr/local/lib/python3.10/dist-packages (from openai) (2.31.0)\n",
            "Requirement already satisfied: tqdm in /usr/local/lib/python3.10/dist-packages (from openai) (4.66.1)\n",
            "Requirement already satisfied: aiohttp in /usr/local/lib/python3.10/dist-packages (from openai) (3.8.5)\n",
            "Requirement already satisfied: charset-normalizer<4,>=2 in /usr/local/lib/python3.10/dist-packages (from requests>=2.20->openai) (3.2.0)\n",
            "Requirement already satisfied: idna<4,>=2.5 in /usr/local/lib/python3.10/dist-packages (from requests>=2.20->openai) (3.4)\n",
            "Requirement already satisfied: urllib3<3,>=1.21.1 in /usr/local/lib/python3.10/dist-packages (from requests>=2.20->openai) (2.0.4)\n",
            "Requirement already satisfied: certifi>=2017.4.17 in /usr/local/lib/python3.10/dist-packages (from requests>=2.20->openai) (2023.7.22)\n",
            "Requirement already satisfied: attrs>=17.3.0 in /usr/local/lib/python3.10/dist-packages (from aiohttp->openai) (23.1.0)\n",
            "Requirement already satisfied: multidict<7.0,>=4.5 in /usr/local/lib/python3.10/dist-packages (from aiohttp->openai) (6.0.4)\n",
            "Requirement already satisfied: async-timeout<5.0,>=4.0.0a3 in /usr/local/lib/python3.10/dist-packages (from aiohttp->openai) (4.0.3)\n",
            "Requirement already satisfied: yarl<2.0,>=1.0 in /usr/local/lib/python3.10/dist-packages (from aiohttp->openai) (1.9.2)\n",
            "Requirement already satisfied: frozenlist>=1.1.1 in /usr/local/lib/python3.10/dist-packages (from aiohttp->openai) (1.4.0)\n",
            "Requirement already satisfied: aiosignal>=1.1.2 in /usr/local/lib/python3.10/dist-packages (from aiohttp->openai) (1.3.1)\n",
            "Installing collected packages: openai\n",
            "Successfully installed openai-0.27.8\n"
          ]
        }
      ]
    },
    {
      "cell_type": "code",
      "source": [
        "import openai\n",
        "import gradio as gr\n",
        "\n",
        "openai.api_key = \"Your api key\"\n",
        "\n",
        "class RecipeGenerator:\n",
        "    def __init__(self):\n",
        "        self.ingredients = [\"chicken\", \"beef\", \"fish\", \"pasta\", \"rice\", \"potatoes\", \"vegetables\"]\n",
        "        self.cuisines = [\"Italian\", \"Mexican\", \"Indian\", \"Chinese\", \"Thai\"]\n",
        "        self.techniques = [\"grilled\", \"baked\", \"roasted\", \"stir-fried\", \"steamed\"]\n",
        "\n",
        "    def generate_recipe(self, cuisine, ingredient, technique):\n",
        "        # Generate recipe using GPT-3 model\n",
        "        prompt = f\"Generate a recipe for {cuisine} {ingredient} {technique}.\"\n",
        "        response = openai.Completion.create(\n",
        "            engine=\"text-davinci-003\",\n",
        "            prompt=prompt,\n",
        "            max_tokens=100,\n",
        "            n=1,\n",
        "            stop=None,\n",
        "            temperature=0.7\n",
        "        )\n",
        "        recipe = response.choices[0].text.strip()\n",
        "\n",
        "        return recipe\n",
        "\n",
        "recipe_generator = RecipeGenerator()\n",
        "\n",
        "def generate_recipe(cuisine, ingredient, technique):\n",
        "    recipe = recipe_generator.generate_recipe(cuisine, ingredient, technique)\n",
        "    return recipe\n",
        "\n",
        "# Define the input and output interfaces using Gradio\n",
        "inputs = [\n",
        "    gr.inputs.Dropdown(choices=recipe_generator.cuisines, label=\"Cuisine\"),\n",
        "    gr.inputs.Dropdown(choices=recipe_generator.ingredients, label=\"Main Ingredient\"),\n",
        "    gr.inputs.Dropdown(choices=recipe_generator.techniques, label=\"Technique\")\n",
        "]\n",
        "output = gr.outputs.Textbox(label=\"Recipe\")\n",
        "\n",
        "# Create the Gradio interface\n",
        "gr.Interface(fn=generate_recipe, inputs=inputs, outputs=output, title=\"Recipe Generator\", description=\"Generate a recipe with smart customizations.\").launch()\n"
      ],
      "metadata": {
        "id": "uyih1A8uYQOE"
      },
      "execution_count": null,
      "outputs": []
    }
  ]
}